{
 "cells": [
  {
   "cell_type": "code",
   "execution_count": 1,
   "id": "d69af482",
   "metadata": {
    "execution": {
     "iopub.execute_input": "2023-08-17T16:08:25.035979Z",
     "iopub.status.busy": "2023-08-17T16:08:25.034531Z",
     "iopub.status.idle": "2023-08-17T16:08:40.392898Z",
     "shell.execute_reply": "2023-08-17T16:08:40.391570Z"
    },
    "papermill": {
     "duration": 15.368977,
     "end_time": "2023-08-17T16:08:40.395833",
     "exception": false,
     "start_time": "2023-08-17T16:08:25.026856",
     "status": "completed"
    },
    "tags": []
   },
   "outputs": [
    {
     "name": "stdout",
     "output_type": "stream",
     "text": [
      "Requirement already satisfied: optuna in /opt/conda/lib/python3.10/site-packages (3.2.0)\r\n",
      "Requirement already satisfied: alembic>=1.5.0 in /opt/conda/lib/python3.10/site-packages (from optuna) (1.11.1)\r\n",
      "Requirement already satisfied: cmaes>=0.9.1 in /opt/conda/lib/python3.10/site-packages (from optuna) (0.9.1)\r\n",
      "Requirement already satisfied: colorlog in /opt/conda/lib/python3.10/site-packages (from optuna) (6.7.0)\r\n",
      "Requirement already satisfied: numpy in /opt/conda/lib/python3.10/site-packages (from optuna) (1.23.5)\r\n",
      "Requirement already satisfied: packaging>=20.0 in /opt/conda/lib/python3.10/site-packages (from optuna) (21.3)\r\n",
      "Requirement already satisfied: sqlalchemy>=1.3.0 in /opt/conda/lib/python3.10/site-packages (from optuna) (2.0.17)\r\n",
      "Requirement already satisfied: tqdm in /opt/conda/lib/python3.10/site-packages (from optuna) (4.65.0)\r\n",
      "Requirement already satisfied: PyYAML in /opt/conda/lib/python3.10/site-packages (from optuna) (6.0)\r\n",
      "Requirement already satisfied: Mako in /opt/conda/lib/python3.10/site-packages (from alembic>=1.5.0->optuna) (1.2.4)\r\n",
      "Requirement already satisfied: typing-extensions>=4 in /opt/conda/lib/python3.10/site-packages (from alembic>=1.5.0->optuna) (4.6.3)\r\n",
      "Requirement already satisfied: pyparsing!=3.0.5,>=2.0.2 in /opt/conda/lib/python3.10/site-packages (from packaging>=20.0->optuna) (3.0.9)\r\n",
      "Requirement already satisfied: greenlet!=0.4.17 in /opt/conda/lib/python3.10/site-packages (from sqlalchemy>=1.3.0->optuna) (2.0.2)\r\n",
      "Requirement already satisfied: MarkupSafe>=0.9.2 in /opt/conda/lib/python3.10/site-packages (from Mako->alembic>=1.5.0->optuna) (2.1.3)\r\n"
     ]
    }
   ],
   "source": [
    "! pip install optuna"
   ]
  },
  {
   "cell_type": "code",
   "execution_count": 2,
   "id": "31240c37",
   "metadata": {
    "execution": {
     "iopub.execute_input": "2023-08-17T16:08:40.409709Z",
     "iopub.status.busy": "2023-08-17T16:08:40.408880Z",
     "iopub.status.idle": "2023-08-17T16:08:43.485287Z",
     "shell.execute_reply": "2023-08-17T16:08:43.484000Z"
    },
    "id": "fdf0b80a",
    "outputId": "57409987-0a2e-40a1-c9a0-5e0f0140456f",
    "papermill": {
     "duration": 3.08645,
     "end_time": "2023-08-17T16:08:43.488143",
     "exception": false,
     "start_time": "2023-08-17T16:08:40.401693",
     "status": "completed"
    },
    "tags": []
   },
   "outputs": [
    {
     "name": "stderr",
     "output_type": "stream",
     "text": [
      "/opt/conda/lib/python3.10/site-packages/scipy/__init__.py:146: UserWarning: A NumPy version >=1.16.5 and <1.23.0 is required for this version of SciPy (detected version 1.23.5\n",
      "  warnings.warn(f\"A NumPy version >={np_minversion} and <{np_maxversion}\"\n"
     ]
    }
   ],
   "source": [
    "import numpy as np\n",
    "import pandas as pd\n",
    "import os\n",
    "\n",
    "import math\n",
    "import matplotlib\n",
    "import matplotlib.pyplot as plt\n",
    "import seaborn as sns\n",
    "\n",
    "from catboost import Pool, CatBoostClassifier, cv\n",
    "from sklearn.model_selection import train_test_split\n",
    "from sklearn.metrics import accuracy_score, classification_report\n",
    "import optuna"
   ]
  },
  {
   "cell_type": "code",
   "execution_count": 3,
   "id": "18df9130",
   "metadata": {
    "execution": {
     "iopub.execute_input": "2023-08-17T16:08:43.501878Z",
     "iopub.status.busy": "2023-08-17T16:08:43.501425Z",
     "iopub.status.idle": "2023-08-17T16:08:43.544231Z",
     "shell.execute_reply": "2023-08-17T16:08:43.543137Z"
    },
    "id": "6ee88357",
    "papermill": {
     "duration": 0.052909,
     "end_time": "2023-08-17T16:08:43.547009",
     "exception": false,
     "start_time": "2023-08-17T16:08:43.494100",
     "status": "completed"
    },
    "tags": []
   },
   "outputs": [],
   "source": [
    "train = pd.read_csv('/kaggle/input/titanic/train.csv')\n",
    "test = pd.read_csv('/kaggle/input/titanic/test.csv')\n",
    "\n",
    "datasets=[train, test]"
   ]
  },
  {
   "cell_type": "code",
   "execution_count": 4,
   "id": "68c3b677",
   "metadata": {
    "execution": {
     "iopub.execute_input": "2023-08-17T16:08:43.560412Z",
     "iopub.status.busy": "2023-08-17T16:08:43.559992Z",
     "iopub.status.idle": "2023-08-17T16:08:43.640151Z",
     "shell.execute_reply": "2023-08-17T16:08:43.638904Z"
    },
    "id": "3b8d1346",
    "papermill": {
     "duration": 0.090116,
     "end_time": "2023-08-17T16:08:43.643029",
     "exception": false,
     "start_time": "2023-08-17T16:08:43.552913",
     "status": "completed"
    },
    "tags": []
   },
   "outputs": [],
   "source": [
    "for dataset in datasets:\n",
    "    dataset['Prefix'] = dataset['Name'].str.extract(r'(\\b\\w+\\.)(?=\\s)')\n",
    "    dataset['Ticket_type']=dataset['Ticket'].apply(lambda x: x.split()[0] if len(x.split())>1 else 'No_type')\n",
    "    dataset['Cabin_type']=dataset['Cabin'].apply(lambda x: x[0] if pd.notnull(x) else 'No_type')\n",
    "    dataset['Embarked'].fillna('No_type', inplace=True)\n",
    "    dataset['Fare'].fillna(round(dataset['Fare'].mean(), 2), inplace=True)\n",
    "    mean_age_by_prefix = dataset.groupby('Prefix')[\"Age\"].mean()\n",
    "    for prefix, mean_age in mean_age_by_prefix.items():\n",
    "       dataset.loc[(dataset['Age'].isnull()) & (dataset['Prefix'] == prefix), 'Age'] = mean_age\n",
    "    dataset['Age']=dataset['Age'].apply(lambda x: round(x) if pd.notnull(x) else dataset[dataset['Prefix']=='Miss.']['Age'].mean())\n",
    "    dataset.drop(['Name','Ticket', 'Cabin'], axis=1, inplace=True)\n"
   ]
  },
  {
   "cell_type": "code",
   "execution_count": 5,
   "id": "aa665f81",
   "metadata": {
    "execution": {
     "iopub.execute_input": "2023-08-17T16:08:43.656567Z",
     "iopub.status.busy": "2023-08-17T16:08:43.656153Z",
     "iopub.status.idle": "2023-08-17T16:08:43.670118Z",
     "shell.execute_reply": "2023-08-17T16:08:43.668918Z"
    },
    "id": "232ff34f",
    "outputId": "e66f4e14-d40c-488a-dd98-39ac14432e2f",
    "papermill": {
     "duration": 0.024518,
     "end_time": "2023-08-17T16:08:43.673375",
     "exception": false,
     "start_time": "2023-08-17T16:08:43.648857",
     "status": "completed"
    },
    "tags": []
   },
   "outputs": [
    {
     "name": "stdout",
     "output_type": "stream",
     "text": [
      "Train: Series([], dtype: int64)\n",
      "Test: Series([], dtype: int64)\n"
     ]
    }
   ],
   "source": [
    "nulls=train.isnull().sum(axis=0)\n",
    "print('Train:', nulls[nulls>0])\n",
    "nulls=test.isnull().sum(axis=0)\n",
    "print('Test:', nulls[nulls>0])"
   ]
  },
  {
   "cell_type": "code",
   "execution_count": 6,
   "id": "c0c87793",
   "metadata": {
    "execution": {
     "iopub.execute_input": "2023-08-17T16:08:43.688444Z",
     "iopub.status.busy": "2023-08-17T16:08:43.688002Z",
     "iopub.status.idle": "2023-08-17T16:08:43.717146Z",
     "shell.execute_reply": "2023-08-17T16:08:43.715984Z"
    },
    "id": "g3X7hK7P7gzk",
    "outputId": "270d277e-a895-4c1a-a2d2-421cf9a67a22",
    "papermill": {
     "duration": 0.039406,
     "end_time": "2023-08-17T16:08:43.720084",
     "exception": false,
     "start_time": "2023-08-17T16:08:43.680678",
     "status": "completed"
    },
    "tags": []
   },
   "outputs": [
    {
     "data": {
      "text/html": [
       "<div>\n",
       "<style scoped>\n",
       "    .dataframe tbody tr th:only-of-type {\n",
       "        vertical-align: middle;\n",
       "    }\n",
       "\n",
       "    .dataframe tbody tr th {\n",
       "        vertical-align: top;\n",
       "    }\n",
       "\n",
       "    .dataframe thead th {\n",
       "        text-align: right;\n",
       "    }\n",
       "</style>\n",
       "<table border=\"1\" class=\"dataframe\">\n",
       "  <thead>\n",
       "    <tr style=\"text-align: right;\">\n",
       "      <th></th>\n",
       "      <th>PassengerId</th>\n",
       "      <th>Survived</th>\n",
       "      <th>Pclass</th>\n",
       "      <th>Sex</th>\n",
       "      <th>Age</th>\n",
       "      <th>SibSp</th>\n",
       "      <th>Parch</th>\n",
       "      <th>Fare</th>\n",
       "      <th>Embarked</th>\n",
       "      <th>Prefix</th>\n",
       "      <th>Ticket_type</th>\n",
       "      <th>Cabin_type</th>\n",
       "    </tr>\n",
       "  </thead>\n",
       "  <tbody>\n",
       "    <tr>\n",
       "      <th>0</th>\n",
       "      <td>1</td>\n",
       "      <td>0</td>\n",
       "      <td>3</td>\n",
       "      <td>male</td>\n",
       "      <td>22</td>\n",
       "      <td>1</td>\n",
       "      <td>0</td>\n",
       "      <td>7.2500</td>\n",
       "      <td>S</td>\n",
       "      <td>Mr.</td>\n",
       "      <td>A/5</td>\n",
       "      <td>No_type</td>\n",
       "    </tr>\n",
       "    <tr>\n",
       "      <th>1</th>\n",
       "      <td>2</td>\n",
       "      <td>1</td>\n",
       "      <td>1</td>\n",
       "      <td>female</td>\n",
       "      <td>38</td>\n",
       "      <td>1</td>\n",
       "      <td>0</td>\n",
       "      <td>71.2833</td>\n",
       "      <td>C</td>\n",
       "      <td>Mrs.</td>\n",
       "      <td>PC</td>\n",
       "      <td>C</td>\n",
       "    </tr>\n",
       "    <tr>\n",
       "      <th>2</th>\n",
       "      <td>3</td>\n",
       "      <td>1</td>\n",
       "      <td>3</td>\n",
       "      <td>female</td>\n",
       "      <td>26</td>\n",
       "      <td>0</td>\n",
       "      <td>0</td>\n",
       "      <td>7.9250</td>\n",
       "      <td>S</td>\n",
       "      <td>Miss.</td>\n",
       "      <td>STON/O2.</td>\n",
       "      <td>No_type</td>\n",
       "    </tr>\n",
       "    <tr>\n",
       "      <th>3</th>\n",
       "      <td>4</td>\n",
       "      <td>1</td>\n",
       "      <td>1</td>\n",
       "      <td>female</td>\n",
       "      <td>35</td>\n",
       "      <td>1</td>\n",
       "      <td>0</td>\n",
       "      <td>53.1000</td>\n",
       "      <td>S</td>\n",
       "      <td>Mrs.</td>\n",
       "      <td>No_type</td>\n",
       "      <td>C</td>\n",
       "    </tr>\n",
       "    <tr>\n",
       "      <th>4</th>\n",
       "      <td>5</td>\n",
       "      <td>0</td>\n",
       "      <td>3</td>\n",
       "      <td>male</td>\n",
       "      <td>35</td>\n",
       "      <td>0</td>\n",
       "      <td>0</td>\n",
       "      <td>8.0500</td>\n",
       "      <td>S</td>\n",
       "      <td>Mr.</td>\n",
       "      <td>No_type</td>\n",
       "      <td>No_type</td>\n",
       "    </tr>\n",
       "    <tr>\n",
       "      <th>...</th>\n",
       "      <td>...</td>\n",
       "      <td>...</td>\n",
       "      <td>...</td>\n",
       "      <td>...</td>\n",
       "      <td>...</td>\n",
       "      <td>...</td>\n",
       "      <td>...</td>\n",
       "      <td>...</td>\n",
       "      <td>...</td>\n",
       "      <td>...</td>\n",
       "      <td>...</td>\n",
       "      <td>...</td>\n",
       "    </tr>\n",
       "    <tr>\n",
       "      <th>886</th>\n",
       "      <td>887</td>\n",
       "      <td>0</td>\n",
       "      <td>2</td>\n",
       "      <td>male</td>\n",
       "      <td>27</td>\n",
       "      <td>0</td>\n",
       "      <td>0</td>\n",
       "      <td>13.0000</td>\n",
       "      <td>S</td>\n",
       "      <td>Rev.</td>\n",
       "      <td>No_type</td>\n",
       "      <td>No_type</td>\n",
       "    </tr>\n",
       "    <tr>\n",
       "      <th>887</th>\n",
       "      <td>888</td>\n",
       "      <td>1</td>\n",
       "      <td>1</td>\n",
       "      <td>female</td>\n",
       "      <td>19</td>\n",
       "      <td>0</td>\n",
       "      <td>0</td>\n",
       "      <td>30.0000</td>\n",
       "      <td>S</td>\n",
       "      <td>Miss.</td>\n",
       "      <td>No_type</td>\n",
       "      <td>B</td>\n",
       "    </tr>\n",
       "    <tr>\n",
       "      <th>888</th>\n",
       "      <td>889</td>\n",
       "      <td>0</td>\n",
       "      <td>3</td>\n",
       "      <td>female</td>\n",
       "      <td>22</td>\n",
       "      <td>1</td>\n",
       "      <td>2</td>\n",
       "      <td>23.4500</td>\n",
       "      <td>S</td>\n",
       "      <td>Miss.</td>\n",
       "      <td>W./C.</td>\n",
       "      <td>No_type</td>\n",
       "    </tr>\n",
       "    <tr>\n",
       "      <th>889</th>\n",
       "      <td>890</td>\n",
       "      <td>1</td>\n",
       "      <td>1</td>\n",
       "      <td>male</td>\n",
       "      <td>26</td>\n",
       "      <td>0</td>\n",
       "      <td>0</td>\n",
       "      <td>30.0000</td>\n",
       "      <td>C</td>\n",
       "      <td>Mr.</td>\n",
       "      <td>No_type</td>\n",
       "      <td>C</td>\n",
       "    </tr>\n",
       "    <tr>\n",
       "      <th>890</th>\n",
       "      <td>891</td>\n",
       "      <td>0</td>\n",
       "      <td>3</td>\n",
       "      <td>male</td>\n",
       "      <td>32</td>\n",
       "      <td>0</td>\n",
       "      <td>0</td>\n",
       "      <td>7.7500</td>\n",
       "      <td>Q</td>\n",
       "      <td>Mr.</td>\n",
       "      <td>No_type</td>\n",
       "      <td>No_type</td>\n",
       "    </tr>\n",
       "  </tbody>\n",
       "</table>\n",
       "<p>891 rows × 12 columns</p>\n",
       "</div>"
      ],
      "text/plain": [
       "     PassengerId  Survived  Pclass     Sex  Age  SibSp  Parch     Fare  \\\n",
       "0              1         0       3    male   22      1      0   7.2500   \n",
       "1              2         1       1  female   38      1      0  71.2833   \n",
       "2              3         1       3  female   26      0      0   7.9250   \n",
       "3              4         1       1  female   35      1      0  53.1000   \n",
       "4              5         0       3    male   35      0      0   8.0500   \n",
       "..           ...       ...     ...     ...  ...    ...    ...      ...   \n",
       "886          887         0       2    male   27      0      0  13.0000   \n",
       "887          888         1       1  female   19      0      0  30.0000   \n",
       "888          889         0       3  female   22      1      2  23.4500   \n",
       "889          890         1       1    male   26      0      0  30.0000   \n",
       "890          891         0       3    male   32      0      0   7.7500   \n",
       "\n",
       "    Embarked Prefix Ticket_type Cabin_type  \n",
       "0          S    Mr.         A/5    No_type  \n",
       "1          C   Mrs.          PC          C  \n",
       "2          S  Miss.    STON/O2.    No_type  \n",
       "3          S   Mrs.     No_type          C  \n",
       "4          S    Mr.     No_type    No_type  \n",
       "..       ...    ...         ...        ...  \n",
       "886        S   Rev.     No_type    No_type  \n",
       "887        S  Miss.     No_type          B  \n",
       "888        S  Miss.       W./C.    No_type  \n",
       "889        C    Mr.     No_type          C  \n",
       "890        Q    Mr.     No_type    No_type  \n",
       "\n",
       "[891 rows x 12 columns]"
      ]
     },
     "execution_count": 6,
     "metadata": {},
     "output_type": "execute_result"
    }
   ],
   "source": [
    "train"
   ]
  },
  {
   "cell_type": "code",
   "execution_count": 7,
   "id": "beb72ce5",
   "metadata": {
    "execution": {
     "iopub.execute_input": "2023-08-17T16:08:43.734290Z",
     "iopub.status.busy": "2023-08-17T16:08:43.733885Z",
     "iopub.status.idle": "2023-08-17T16:08:43.739621Z",
     "shell.execute_reply": "2023-08-17T16:08:43.738390Z"
    },
    "id": "1c49e314",
    "papermill": {
     "duration": 0.015633,
     "end_time": "2023-08-17T16:08:43.742026",
     "exception": false,
     "start_time": "2023-08-17T16:08:43.726393",
     "status": "completed"
    },
    "tags": []
   },
   "outputs": [],
   "source": [
    "categorical_features_indices=['Pclass', 'Sex', 'SibSp', 'Parch', 'Embarked', 'Prefix', 'Ticket_type', 'Cabin_type']"
   ]
  },
  {
   "cell_type": "code",
   "execution_count": 8,
   "id": "3b770c36",
   "metadata": {
    "execution": {
     "iopub.execute_input": "2023-08-17T16:08:43.758113Z",
     "iopub.status.busy": "2023-08-17T16:08:43.757705Z",
     "iopub.status.idle": "2023-08-17T16:10:03.262457Z",
     "shell.execute_reply": "2023-08-17T16:10:03.261248Z"
    },
    "id": "9a8790ec",
    "outputId": "40314b8f-c9a1-45fa-d1ce-d74e90ceb6db",
    "papermill": {
     "duration": 79.515256,
     "end_time": "2023-08-17T16:10:03.265146",
     "exception": false,
     "start_time": "2023-08-17T16:08:43.749890",
     "status": "completed"
    },
    "tags": []
   },
   "outputs": [
    {
     "name": "stderr",
     "output_type": "stream",
     "text": [
      "[I 2023-08-17 16:08:43,768] A new study created in memory with name: no-name-676ba7f5-4dad-40a1-83de-274d5f097213\n",
      "[I 2023-08-17 16:08:45,083] Trial 0 finished with value: 0.8295964125560538 and parameters: {'objective': 'CrossEntropy', 'colsample_bylevel': 0.038774359458212296, 'depth': 9, 'boosting_type': 'Plain', 'bootstrap_type': 'Bayesian', 'bagging_temperature': 3.403844181935032}. Best is trial 0 with value: 0.8295964125560538.\n",
      "[I 2023-08-17 16:08:46,312] Trial 1 finished with value: 0.8295964125560538 and parameters: {'objective': 'CrossEntropy', 'colsample_bylevel': 0.04860798973293406, 'depth': 6, 'boosting_type': 'Plain', 'bootstrap_type': 'MVS'}. Best is trial 0 with value: 0.8295964125560538.\n",
      "[I 2023-08-17 16:08:47,339] Trial 2 finished with value: 0.7982062780269058 and parameters: {'objective': 'Logloss', 'colsample_bylevel': 0.011006948965703114, 'depth': 12, 'boosting_type': 'Plain', 'bootstrap_type': 'Bayesian', 'bagging_temperature': 6.8538262296869155}. Best is trial 0 with value: 0.8295964125560538.\n",
      "[I 2023-08-17 16:08:49,838] Trial 3 finished with value: 0.820627802690583 and parameters: {'objective': 'CrossEntropy', 'colsample_bylevel': 0.042795388421705216, 'depth': 6, 'boosting_type': 'Ordered', 'bootstrap_type': 'Bayesian', 'bagging_temperature': 1.8169825934519335}. Best is trial 0 with value: 0.8295964125560538.\n",
      "[I 2023-08-17 16:08:50,885] Trial 4 finished with value: 0.7757847533632287 and parameters: {'objective': 'Logloss', 'colsample_bylevel': 0.07573728743986591, 'depth': 1, 'boosting_type': 'Plain', 'bootstrap_type': 'Bernoulli', 'subsample': 0.503217541079445}. Best is trial 0 with value: 0.8295964125560538.\n",
      "[I 2023-08-17 16:08:52,442] Trial 5 finished with value: 0.8340807174887892 and parameters: {'objective': 'CrossEntropy', 'colsample_bylevel': 0.052766860593134034, 'depth': 11, 'boosting_type': 'Plain', 'bootstrap_type': 'MVS'}. Best is trial 5 with value: 0.8340807174887892.\n",
      "[I 2023-08-17 16:08:55,097] Trial 6 finished with value: 0.8295964125560538 and parameters: {'objective': 'Logloss', 'colsample_bylevel': 0.04076536261774032, 'depth': 11, 'boosting_type': 'Ordered', 'bootstrap_type': 'MVS'}. Best is trial 5 with value: 0.8340807174887892.\n",
      "[I 2023-08-17 16:08:58,731] Trial 7 finished with value: 0.8295964125560538 and parameters: {'objective': 'CrossEntropy', 'colsample_bylevel': 0.09720513932601685, 'depth': 11, 'boosting_type': 'Ordered', 'bootstrap_type': 'MVS'}. Best is trial 5 with value: 0.8340807174887892.\n",
      "[I 2023-08-17 16:09:01,189] Trial 8 finished with value: 0.8251121076233184 and parameters: {'objective': 'Logloss', 'colsample_bylevel': 0.0971535892122898, 'depth': 12, 'boosting_type': 'Plain', 'bootstrap_type': 'Bernoulli', 'subsample': 0.14025900964099497}. Best is trial 5 with value: 0.8340807174887892.\n",
      "[I 2023-08-17 16:09:05,441] Trial 9 finished with value: 0.8295964125560538 and parameters: {'objective': 'Logloss', 'colsample_bylevel': 0.08920249011096938, 'depth': 11, 'boosting_type': 'Ordered', 'bootstrap_type': 'MVS'}. Best is trial 5 with value: 0.8340807174887892.\n",
      "[I 2023-08-17 16:09:06,727] Trial 10 finished with value: 0.820627802690583 and parameters: {'objective': 'CrossEntropy', 'colsample_bylevel': 0.06552505439466891, 'depth': 8, 'boosting_type': 'Plain', 'bootstrap_type': 'MVS'}. Best is trial 5 with value: 0.8340807174887892.\n",
      "[I 2023-08-17 16:09:07,904] Trial 11 finished with value: 0.8026905829596412 and parameters: {'objective': 'CrossEntropy', 'colsample_bylevel': 0.031014473313292833, 'depth': 8, 'boosting_type': 'Plain', 'bootstrap_type': 'Bayesian', 'bagging_temperature': 2.89580318649759}. Best is trial 5 with value: 0.8340807174887892.\n",
      "[I 2023-08-17 16:09:09,262] Trial 12 finished with value: 0.8385650224215246 and parameters: {'objective': 'CrossEntropy', 'colsample_bylevel': 0.05808333086019984, 'depth': 9, 'boosting_type': 'Plain', 'bootstrap_type': 'Bayesian', 'bagging_temperature': 9.483544173894378}. Best is trial 12 with value: 0.8385650224215246.\n",
      "[I 2023-08-17 16:09:10,583] Trial 13 finished with value: 0.8161434977578476 and parameters: {'objective': 'CrossEntropy', 'colsample_bylevel': 0.059311858553314833, 'depth': 4, 'boosting_type': 'Plain', 'bootstrap_type': 'Bayesian', 'bagging_temperature': 9.947374944921641}. Best is trial 12 with value: 0.8385650224215246.\n",
      "[I 2023-08-17 16:09:11,672] Trial 14 finished with value: 0.8116591928251121 and parameters: {'objective': 'CrossEntropy', 'colsample_bylevel': 0.0680147623052637, 'depth': 9, 'boosting_type': 'Plain', 'bootstrap_type': 'Bernoulli', 'subsample': 0.9783387714261245}. Best is trial 12 with value: 0.8385650224215246.\n",
      "[I 2023-08-17 16:09:12,693] Trial 15 finished with value: 0.8340807174887892 and parameters: {'objective': 'CrossEntropy', 'colsample_bylevel': 0.05513741202938089, 'depth': 9, 'boosting_type': 'Plain', 'bootstrap_type': 'MVS'}. Best is trial 12 with value: 0.8385650224215246.\n",
      "[I 2023-08-17 16:09:13,858] Trial 16 finished with value: 0.8161434977578476 and parameters: {'objective': 'CrossEntropy', 'colsample_bylevel': 0.07869400558446117, 'depth': 10, 'boosting_type': 'Plain', 'bootstrap_type': 'Bayesian', 'bagging_temperature': 9.90823994508708}. Best is trial 12 with value: 0.8385650224215246.\n",
      "[I 2023-08-17 16:09:15,100] Trial 17 finished with value: 0.820627802690583 and parameters: {'objective': 'CrossEntropy', 'colsample_bylevel': 0.05492167300847302, 'depth': 4, 'boosting_type': 'Plain', 'bootstrap_type': 'MVS'}. Best is trial 12 with value: 0.8385650224215246.\n",
      "[I 2023-08-17 16:09:17,571] Trial 18 finished with value: 0.820627802690583 and parameters: {'objective': 'CrossEntropy', 'colsample_bylevel': 0.06628727741555812, 'depth': 8, 'boosting_type': 'Ordered', 'bootstrap_type': 'Bayesian', 'bagging_temperature': 6.634778242314626}. Best is trial 12 with value: 0.8385650224215246.\n",
      "[I 2023-08-17 16:09:18,679] Trial 19 finished with value: 0.7802690582959642 and parameters: {'objective': 'CrossEntropy', 'colsample_bylevel': 0.027383173788159767, 'depth': 7, 'boosting_type': 'Plain', 'bootstrap_type': 'Bernoulli', 'subsample': 0.9684987759048657}. Best is trial 12 with value: 0.8385650224215246.\n",
      "[I 2023-08-17 16:09:19,978] Trial 20 finished with value: 0.820627802690583 and parameters: {'objective': 'CrossEntropy', 'colsample_bylevel': 0.05105234362369242, 'depth': 10, 'boosting_type': 'Plain', 'bootstrap_type': 'MVS'}. Best is trial 12 with value: 0.8385650224215246.\n",
      "[I 2023-08-17 16:09:21,398] Trial 21 finished with value: 0.8295964125560538 and parameters: {'objective': 'CrossEntropy', 'colsample_bylevel': 0.06002578021248611, 'depth': 10, 'boosting_type': 'Plain', 'bootstrap_type': 'MVS'}. Best is trial 12 with value: 0.8385650224215246.\n",
      "[I 2023-08-17 16:09:22,828] Trial 22 finished with value: 0.8116591928251121 and parameters: {'objective': 'CrossEntropy', 'colsample_bylevel': 0.051760679460424244, 'depth': 9, 'boosting_type': 'Plain', 'bootstrap_type': 'MVS'}. Best is trial 12 with value: 0.8385650224215246.\n",
      "[I 2023-08-17 16:09:24,262] Trial 23 finished with value: 0.8295964125560538 and parameters: {'objective': 'CrossEntropy', 'colsample_bylevel': 0.05922581530615948, 'depth': 7, 'boosting_type': 'Plain', 'bootstrap_type': 'MVS'}. Best is trial 12 with value: 0.8385650224215246.\n",
      "[I 2023-08-17 16:09:25,406] Trial 24 finished with value: 0.8385650224215246 and parameters: {'objective': 'CrossEntropy', 'colsample_bylevel': 0.04531015637600518, 'depth': 12, 'boosting_type': 'Plain', 'bootstrap_type': 'MVS'}. Best is trial 12 with value: 0.8385650224215246.\n",
      "[I 2023-08-17 16:09:26,698] Trial 25 finished with value: 0.8295964125560538 and parameters: {'objective': 'CrossEntropy', 'colsample_bylevel': 0.043991268189415136, 'depth': 12, 'boosting_type': 'Plain', 'bootstrap_type': 'Bayesian', 'bagging_temperature': 5.922741950778243}. Best is trial 12 with value: 0.8385650224215246.\n",
      "[I 2023-08-17 16:09:29,803] Trial 26 finished with value: 0.820627802690583 and parameters: {'objective': 'Logloss', 'colsample_bylevel': 0.04784972115272358, 'depth': 11, 'boosting_type': 'Ordered', 'bootstrap_type': 'MVS'}. Best is trial 12 with value: 0.8385650224215246.\n",
      "[I 2023-08-17 16:09:31,041] Trial 27 finished with value: 0.8161434977578476 and parameters: {'objective': 'CrossEntropy', 'colsample_bylevel': 0.034921383147128185, 'depth': 12, 'boosting_type': 'Plain', 'bootstrap_type': 'MVS'}. Best is trial 12 with value: 0.8385650224215246.\n",
      "[I 2023-08-17 16:09:32,305] Trial 28 finished with value: 0.8295964125560538 and parameters: {'objective': 'CrossEntropy', 'colsample_bylevel': 0.04429313392039419, 'depth': 10, 'boosting_type': 'Plain', 'bootstrap_type': 'Bernoulli', 'subsample': 0.1660630114315198}. Best is trial 12 with value: 0.8385650224215246.\n",
      "[I 2023-08-17 16:09:33,583] Trial 29 finished with value: 0.8251121076233184 and parameters: {'objective': 'CrossEntropy', 'colsample_bylevel': 0.038660592439358335, 'depth': 11, 'boosting_type': 'Plain', 'bootstrap_type': 'Bayesian', 'bagging_temperature': 8.141941046827554}. Best is trial 12 with value: 0.8385650224215246.\n",
      "[I 2023-08-17 16:09:34,768] Trial 30 finished with value: 0.8161434977578476 and parameters: {'objective': 'CrossEntropy', 'colsample_bylevel': 0.0360743156724285, 'depth': 9, 'boosting_type': 'Plain', 'bootstrap_type': 'Bayesian', 'bagging_temperature': 4.1790799268002194}. Best is trial 12 with value: 0.8385650224215246.\n",
      "[I 2023-08-17 16:09:35,987] Trial 31 finished with value: 0.8340807174887892 and parameters: {'objective': 'CrossEntropy', 'colsample_bylevel': 0.05519238390857443, 'depth': 9, 'boosting_type': 'Plain', 'bootstrap_type': 'MVS'}. Best is trial 12 with value: 0.8385650224215246.\n",
      "[I 2023-08-17 16:09:37,132] Trial 32 finished with value: 0.8295964125560538 and parameters: {'objective': 'CrossEntropy', 'colsample_bylevel': 0.04926905477178377, 'depth': 10, 'boosting_type': 'Plain', 'bootstrap_type': 'MVS'}. Best is trial 12 with value: 0.8385650224215246.\n",
      "[I 2023-08-17 16:09:38,303] Trial 33 finished with value: 0.8161434977578476 and parameters: {'objective': 'CrossEntropy', 'colsample_bylevel': 0.055295832144022464, 'depth': 5, 'boosting_type': 'Plain', 'bootstrap_type': 'MVS'}. Best is trial 12 with value: 0.8385650224215246.\n",
      "[I 2023-08-17 16:09:39,797] Trial 34 finished with value: 0.8161434977578476 and parameters: {'objective': 'CrossEntropy', 'colsample_bylevel': 0.04644687484126121, 'depth': 12, 'boosting_type': 'Plain', 'bootstrap_type': 'MVS'}. Best is trial 12 with value: 0.8385650224215246.\n",
      "[I 2023-08-17 16:09:41,023] Trial 35 finished with value: 0.7982062780269058 and parameters: {'objective': 'CrossEntropy', 'colsample_bylevel': 0.06272243325380628, 'depth': 1, 'boosting_type': 'Plain', 'bootstrap_type': 'MVS'}. Best is trial 12 with value: 0.8385650224215246.\n",
      "[I 2023-08-17 16:09:42,457] Trial 36 finished with value: 0.8385650224215246 and parameters: {'objective': 'Logloss', 'colsample_bylevel': 0.07128453403795765, 'depth': 8, 'boosting_type': 'Plain', 'bootstrap_type': 'Bayesian', 'bagging_temperature': 0.42860722507001103}. Best is trial 12 with value: 0.8385650224215246.\n",
      "[I 2023-08-17 16:09:45,234] Trial 37 finished with value: 0.8340807174887892 and parameters: {'objective': 'Logloss', 'colsample_bylevel': 0.07368102243750448, 'depth': 7, 'boosting_type': 'Ordered', 'bootstrap_type': 'Bayesian', 'bagging_temperature': 1.5711175267222064}. Best is trial 12 with value: 0.8385650224215246.\n",
      "[I 2023-08-17 16:09:46,689] Trial 38 finished with value: 0.8385650224215246 and parameters: {'objective': 'Logloss', 'colsample_bylevel': 0.06716588307015134, 'depth': 6, 'boosting_type': 'Plain', 'bootstrap_type': 'Bayesian', 'bagging_temperature': 0.9463281508261792}. Best is trial 12 with value: 0.8385650224215246.\n",
      "[I 2023-08-17 16:09:48,057] Trial 39 finished with value: 0.8340807174887892 and parameters: {'objective': 'Logloss', 'colsample_bylevel': 0.07085721748979608, 'depth': 5, 'boosting_type': 'Plain', 'bootstrap_type': 'Bayesian', 'bagging_temperature': 0.33368918592539965}. Best is trial 12 with value: 0.8385650224215246.\n",
      "[I 2023-08-17 16:09:50,364] Trial 40 finished with value: 0.8340807174887892 and parameters: {'objective': 'Logloss', 'colsample_bylevel': 0.07732391458893464, 'depth': 6, 'boosting_type': 'Ordered', 'bootstrap_type': 'Bayesian', 'bagging_temperature': 0.11843745612196699}. Best is trial 12 with value: 0.8385650224215246.\n",
      "[I 2023-08-17 16:09:51,432] Trial 41 finished with value: 0.8295964125560538 and parameters: {'objective': 'Logloss', 'colsample_bylevel': 0.06299774737901676, 'depth': 8, 'boosting_type': 'Plain', 'bootstrap_type': 'Bayesian', 'bagging_temperature': 4.884640927654513}. Best is trial 12 with value: 0.8385650224215246.\n",
      "[I 2023-08-17 16:09:52,541] Trial 42 finished with value: 0.8116591928251121 and parameters: {'objective': 'Logloss', 'colsample_bylevel': 0.0702589738545421, 'depth': 11, 'boosting_type': 'Plain', 'bootstrap_type': 'Bayesian', 'bagging_temperature': 1.6479759329265864}. Best is trial 12 with value: 0.8385650224215246.\n",
      "[I 2023-08-17 16:09:53,611] Trial 43 finished with value: 0.8295964125560538 and parameters: {'objective': 'Logloss', 'colsample_bylevel': 0.08230603027484841, 'depth': 5, 'boosting_type': 'Plain', 'bootstrap_type': 'Bayesian', 'bagging_temperature': 0.05216790609779798}. Best is trial 12 with value: 0.8385650224215246.\n",
      "[I 2023-08-17 16:09:54,838] Trial 44 finished with value: 0.820627802690583 and parameters: {'objective': 'Logloss', 'colsample_bylevel': 0.06769739742464172, 'depth': 6, 'boosting_type': 'Plain', 'bootstrap_type': 'Bayesian', 'bagging_temperature': 2.7651388401618284}. Best is trial 12 with value: 0.8385650224215246.\n",
      "[I 2023-08-17 16:09:56,065] Trial 45 finished with value: 0.8116591928251121 and parameters: {'objective': 'Logloss', 'colsample_bylevel': 0.06452551346965878, 'depth': 2, 'boosting_type': 'Plain', 'bootstrap_type': 'Bayesian', 'bagging_temperature': 4.461307459920524}. Best is trial 12 with value: 0.8385650224215246.\n",
      "[I 2023-08-17 16:09:57,417] Trial 46 finished with value: 0.8340807174887892 and parameters: {'objective': 'Logloss', 'colsample_bylevel': 0.07119745442963932, 'depth': 7, 'boosting_type': 'Plain', 'bootstrap_type': 'Bernoulli', 'subsample': 0.6584764754811228}. Best is trial 12 with value: 0.8385650224215246.\n",
      "[I 2023-08-17 16:10:00,253] Trial 47 finished with value: 0.8251121076233184 and parameters: {'objective': 'Logloss', 'colsample_bylevel': 0.05799485948087115, 'depth': 8, 'boosting_type': 'Ordered', 'bootstrap_type': 'Bayesian', 'bagging_temperature': 1.230357461821224}. Best is trial 12 with value: 0.8385650224215246.\n",
      "[I 2023-08-17 16:10:01,905] Trial 48 finished with value: 0.820627802690583 and parameters: {'objective': 'Logloss', 'colsample_bylevel': 0.06179717932157981, 'depth': 12, 'boosting_type': 'Plain', 'bootstrap_type': 'Bayesian', 'bagging_temperature': 3.815703955466506}. Best is trial 12 with value: 0.8385650224215246.\n",
      "[I 2023-08-17 16:10:03,246] Trial 49 finished with value: 0.8340807174887892 and parameters: {'objective': 'Logloss', 'colsample_bylevel': 0.06543970618236922, 'depth': 11, 'boosting_type': 'Plain', 'bootstrap_type': 'Bayesian', 'bagging_temperature': 2.5570107882403157}. Best is trial 12 with value: 0.8385650224215246.\n"
     ]
    },
    {
     "name": "stdout",
     "output_type": "stream",
     "text": [
      "Number of finished trials: 50\n",
      "Best trial:\n",
      "  Value: 0.8385650224215246\n",
      "  Params: \n",
      "    objective: CrossEntropy\n",
      "    colsample_bylevel: 0.05808333086019984\n",
      "    depth: 9\n",
      "    boosting_type: Plain\n",
      "    bootstrap_type: Bayesian\n",
      "    bagging_temperature: 9.483544173894378\n"
     ]
    }
   ],
   "source": [
    "def objective(trial):\n",
    "    X=train.drop('Survived', axis=1)\n",
    "    y=train['Survived']\n",
    "    X_train, X_validation, y_train, y_validation = train_test_split(X, y, train_size=0.75, random_state=42)\n",
    "    X_test=test\n",
    "\n",
    "    param = {\n",
    "        \"objective\": trial.suggest_categorical(\"objective\", [\"Logloss\", \"CrossEntropy\"]),\n",
    "        \"colsample_bylevel\": trial.suggest_float(\"colsample_bylevel\", 0.01, 0.1),\n",
    "        \"depth\": trial.suggest_int(\"depth\", 1, 12),\n",
    "        \"boosting_type\": trial.suggest_categorical(\"boosting_type\", [\"Ordered\", \"Plain\"]),\n",
    "        \"bootstrap_type\": trial.suggest_categorical(\n",
    "            \"bootstrap_type\", [\"Bayesian\", \"Bernoulli\", \"MVS\"]\n",
    "        ),\n",
    "        \"used_ram_limit\": \"3gb\",\n",
    "    }\n",
    "\n",
    "    if param[\"bootstrap_type\"] == \"Bayesian\":\n",
    "        param[\"bagging_temperature\"] = trial.suggest_float(\"bagging_temperature\", 0, 10)\n",
    "    elif param[\"bootstrap_type\"] == \"Bernoulli\":\n",
    "        param[\"subsample\"] = trial.suggest_float(\"subsample\", 0.1, 1)\n",
    "\n",
    "    cat_cls = CatBoostClassifier(**param)\n",
    "\n",
    "    cat_cls.fit(X_train, y_train, eval_set=[(X_validation, y_validation)], cat_features=categorical_features_indices,verbose=0, early_stopping_rounds=100)\n",
    "\n",
    "    preds = cat_cls.predict(X_validation)\n",
    "    pred_labels = np.rint(preds)\n",
    "    accuracy = accuracy_score(y_validation, pred_labels)\n",
    "    return accuracy\n",
    "\n",
    "\n",
    "if __name__ == \"__main__\":\n",
    "    study = optuna.create_study(direction=\"maximize\")\n",
    "    study.optimize(objective, n_trials=50, timeout=360)\n",
    "\n",
    "    print(\"Number of finished trials: {}\".format(len(study.trials)))\n",
    "\n",
    "    print(\"Best trial:\")\n",
    "    trial = study.best_trial\n",
    "\n",
    "    print(\"  Value: {}\".format(trial.value))\n",
    "\n",
    "    print(\"  Params: \")\n",
    "    for key, value in trial.params.items():\n",
    "        print(\"    {}: {}\".format(key, value))"
   ]
  },
  {
   "cell_type": "code",
   "execution_count": 9,
   "id": "a30917a6",
   "metadata": {
    "execution": {
     "iopub.execute_input": "2023-08-17T16:10:03.291081Z",
     "iopub.status.busy": "2023-08-17T16:10:03.289895Z",
     "iopub.status.idle": "2023-08-17T16:10:10.974672Z",
     "shell.execute_reply": "2023-08-17T16:10:10.973393Z"
    },
    "id": "3Oms54Ta1PH7",
    "outputId": "9f0f1b48-441b-45e5-f27b-5b96c23aaa0f",
    "papermill": {
     "duration": 7.700621,
     "end_time": "2023-08-17T16:10:10.977275",
     "exception": false,
     "start_time": "2023-08-17T16:10:03.276654",
     "status": "completed"
    },
    "tags": []
   },
   "outputs": [
    {
     "name": "stdout",
     "output_type": "stream",
     "text": [
      "              precision    recall  f1-score   support\n",
      "\n",
      "           0       0.83      0.90      0.86       134\n",
      "           1       0.83      0.72      0.77        89\n",
      "\n",
      "    accuracy                           0.83       223\n",
      "   macro avg       0.83      0.81      0.82       223\n",
      "weighted avg       0.83      0.83      0.83       223\n",
      "\n"
     ]
    },
    {
     "data": {
      "text/html": [
       "<div>\n",
       "<style scoped>\n",
       "    .dataframe tbody tr th:only-of-type {\n",
       "        vertical-align: middle;\n",
       "    }\n",
       "\n",
       "    .dataframe tbody tr th {\n",
       "        vertical-align: top;\n",
       "    }\n",
       "\n",
       "    .dataframe thead th {\n",
       "        text-align: right;\n",
       "    }\n",
       "</style>\n",
       "<table border=\"1\" class=\"dataframe\">\n",
       "  <thead>\n",
       "    <tr style=\"text-align: right;\">\n",
       "      <th></th>\n",
       "      <th>Accuracy</th>\n",
       "    </tr>\n",
       "  </thead>\n",
       "  <tbody>\n",
       "    <tr>\n",
       "      <th>Catboost_tuned</th>\n",
       "      <td>0.8296</td>\n",
       "    </tr>\n",
       "  </tbody>\n",
       "</table>\n",
       "</div>"
      ],
      "text/plain": [
       "                Accuracy\n",
       "Catboost_tuned    0.8296"
      ]
     },
     "execution_count": 9,
     "metadata": {},
     "output_type": "execute_result"
    }
   ],
   "source": [
    "accuracy =[]\n",
    "model_names =[]\n",
    "\n",
    "\n",
    "X=train.drop('Survived', axis=1)\n",
    "y=train['Survived']\n",
    "X_train, X_validation, y_train, y_validation = train_test_split(X, y, train_size=0.75, random_state=42)\n",
    "X_test=test\n",
    "\n",
    "model = CatBoostClassifier(verbose=False,random_state=42,\n",
    "    objective= 'CrossEntropy',\n",
    "    colsample_bylevel= 0.06695759969519763,\n",
    "    depth= 12,\n",
    "    boosting_type= 'Ordered',\n",
    "    bootstrap_type= 'MVS')\n",
    "\n",
    "model.fit(X_train, y_train,cat_features=categorical_features_indices,eval_set=(X_validation, y_validation))\n",
    "y_pred = model.predict(X_validation)\n",
    "accuracy.append(round(accuracy_score(y_validation, y_pred),4))\n",
    "print(classification_report(y_validation, y_pred))\n",
    "\n",
    "model_names = ['Catboost_tuned']\n",
    "result_df6 = pd.DataFrame({'Accuracy':accuracy}, index=model_names)\n",
    "result_df6"
   ]
  },
  {
   "cell_type": "code",
   "execution_count": null,
   "id": "d00e922e",
   "metadata": {
    "id": "UpbUEXF1Bzke",
    "papermill": {
     "duration": 0.011005,
     "end_time": "2023-08-17T16:10:10.999765",
     "exception": false,
     "start_time": "2023-08-17T16:10:10.988760",
     "status": "completed"
    },
    "tags": []
   },
   "outputs": [],
   "source": []
  },
  {
   "cell_type": "code",
   "execution_count": 10,
   "id": "3a3f247c",
   "metadata": {
    "execution": {
     "iopub.execute_input": "2023-08-17T16:10:11.029769Z",
     "iopub.status.busy": "2023-08-17T16:10:11.028815Z",
     "iopub.status.idle": "2023-08-17T16:10:11.051117Z",
     "shell.execute_reply": "2023-08-17T16:10:11.049748Z"
    },
    "id": "wsW7v6bW_TRz",
    "papermill": {
     "duration": 0.038703,
     "end_time": "2023-08-17T16:10:11.054626",
     "exception": false,
     "start_time": "2023-08-17T16:10:11.015923",
     "status": "completed"
    },
    "tags": []
   },
   "outputs": [],
   "source": [
    "submission = pd.DataFrame()\n",
    "submission['PassengerId'] = X_test['PassengerId']\n",
    "submission['Survived'] = model.predict(X_test)\n",
    "submission.to_csv('submission.csv', index=False)"
   ]
  },
  {
   "cell_type": "code",
   "execution_count": 11,
   "id": "55950be8",
   "metadata": {
    "execution": {
     "iopub.execute_input": "2023-08-17T16:10:11.079903Z",
     "iopub.status.busy": "2023-08-17T16:10:11.079519Z",
     "iopub.status.idle": "2023-08-17T16:10:12.213223Z",
     "shell.execute_reply": "2023-08-17T16:10:12.211805Z"
    },
    "id": "1LpqfZlyAkM7",
    "outputId": "073d5fb1-f463-4953-d32a-d5f1c0ab224a",
    "papermill": {
     "duration": 1.149922,
     "end_time": "2023-08-17T16:10:12.216494",
     "exception": false,
     "start_time": "2023-08-17T16:10:11.066572",
     "status": "completed"
    },
    "tags": []
   },
   "outputs": [
    {
     "name": "stdout",
     "output_type": "stream",
     "text": [
      "PassengerId,Survived\r\n",
      "892,0\r\n",
      "893,0\r\n",
      "894,0\r\n",
      "895,0\r\n",
      "896,0\r\n",
      "897,0\r\n",
      "898,0\r\n",
      "899,0\r\n",
      "900,1\r\n"
     ]
    }
   ],
   "source": [
    "! head submission.csv"
   ]
  },
  {
   "cell_type": "code",
   "execution_count": null,
   "id": "ae67dd7e",
   "metadata": {
    "id": "3BAjjxeq59BP",
    "papermill": {
     "duration": 0.01123,
     "end_time": "2023-08-17T16:10:12.239849",
     "exception": false,
     "start_time": "2023-08-17T16:10:12.228619",
     "status": "completed"
    },
    "tags": []
   },
   "outputs": [],
   "source": []
  }
 ],
 "metadata": {
  "kernelspec": {
   "display_name": "Python 3",
   "language": "python",
   "name": "python3"
  },
  "language_info": {
   "codemirror_mode": {
    "name": "ipython",
    "version": 3
   },
   "file_extension": ".py",
   "mimetype": "text/x-python",
   "name": "python",
   "nbconvert_exporter": "python",
   "pygments_lexer": "ipython3",
   "version": "3.10.12"
  },
  "papermill": {
   "default_parameters": {},
   "duration": 120.050594,
   "end_time": "2023-08-17T16:10:13.483147",
   "environment_variables": {},
   "exception": null,
   "input_path": "__notebook__.ipynb",
   "output_path": "__notebook__.ipynb",
   "parameters": {},
   "start_time": "2023-08-17T16:08:13.432553",
   "version": "2.4.0"
  }
 },
 "nbformat": 4,
 "nbformat_minor": 5
}
